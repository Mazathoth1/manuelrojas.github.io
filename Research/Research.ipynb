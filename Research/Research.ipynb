{
  "cells": [
    {
      "cell_type": "raw",
      "metadata": {},
      "source": [
        "---\n",
        "title: \"Research\"\n",
        "---"
      ],
      "id": "d4ea559f"
    },
    {
      "cell_type": "markdown",
      "metadata": {},
      "source": [
        "### Distributional Effects of a Non-Linear Price Scheme in Public Utilities:\n",
        "\n",
        "```         \n",
        "```\n",
        "\n",
        "\n",
        "```{css, echo = FALSE}\n",
        ".justify {\n",
        "  text-align: justify !important\n",
        "}\n",
        "```\n",
        "\n",
        "\n",
        "::: justify\n",
        "In this paper, I introduce a novel methodology to analyze the impact of non-linear pricing schemes in public utilities, specifically focusing on water consumption and welfare in Bogotá, Colombia. Employing a combination of reduced-form and structural modeling techniques, I leverage Bogotá's unique context, where households contend with diverse pricing structures, including additional non-linear elements introduced through a 2012 pricing adjustment. The findings indicate modest price elasticities and substantial income elasticities. Furthermore, through the structural model and counterfactual simulations, I examine the implications of these pricing schemes on welfare and consumption distribution. Notably, these simulations highlight that wealthier households benefit more from this pricing scheme, prompting me to propose an alternative approach to achieve more significant equity in the distribution of benefits.\n",
        ":::\n",
        "\n",
        "```         \n",
        "```"
      ],
      "id": "112aa29b"
    }
  ],
  "metadata": {
    "kernelspec": {
      "display_name": "Python 3",
      "language": "python",
      "name": "python3"
    }
  },
  "nbformat": 4,
  "nbformat_minor": 5
}